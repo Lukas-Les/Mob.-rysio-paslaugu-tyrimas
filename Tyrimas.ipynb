{
 "cells": [
  {
   "cell_type": "markdown",
   "metadata": {},
   "source": [
    "# Tyrimo tikslas:\n",
    "### Išsiaiškinti, ar išmaniųjų telefonų naudojimo skatinimo kampanija paveikė įmonės įplaukas gaunamas iš privačių klientų."
   ]
  },
  {
   "cell_type": "markdown",
   "metadata": {},
   "source": [
    "## Pagrindiniai klausimai:\n",
    "1) Remiantis esamais duomenimis, pasakyti, ar žmonės, kurie įsigijo išmanųjį telefoną išties padidino savo ARPU kitą mėnesį. \n",
    "\n",
    "2) Jeigu taip, kiek papildomai pajamų buvo sugeneruota septintą mėnesį? \n",
    "### __________________________________________"
   ]
  },
  {
   "cell_type": "markdown",
   "metadata": {},
   "source": [
    "Importuojamos reikiamos bibliotekos:"
   ]
  },
  {
   "cell_type": "code",
   "execution_count": 4,
   "metadata": {},
   "outputs": [],
   "source": [
    "import numpy as np\n",
    "import pandas as pd\n",
    "import matplotlib.pyplot as plt\n",
    "%matplotlib inline"
   ]
  },
  {
   "cell_type": "markdown",
   "metadata": {},
   "source": [
    "Įkeliami reikalingi duomenys:"
   ]
  },
  {
   "cell_type": "code",
   "execution_count": 5,
   "metadata": {},
   "outputs": [],
   "source": [
    "df = pd.read_excel('Telco sample.xlsx')"
   ]
  },
  {
   "cell_type": "markdown",
   "metadata": {},
   "source": [
    "### Trumpa duomenų apžvalga:"
   ]
  },
  {
   "cell_type": "markdown",
   "metadata": {},
   "source": [
    "Turime birželio ir liepos mėnesio duomenis apie vartotojų ARPU, tai yra, kiek pinigų jie išleido mobiliajam ryšiui. Taip pat žinome ir ar tais mėnesiais jie turėjo išmaniuosius telefonus.\n",
    "Tyrimo metu planuojama palyginti apyvartas surinktas iš vartotojų esančių šioje duomenų bazėje. Jei liepos mėnesio apyvarta viršys birželio - tai indikuos apyvartos augimą. Jei klientų, turinčių išmaniuosius telefonus, kiekis liepos mėnesį taip pat bus didesnis nei birželio - bus galima kelti hipotezę, kad prie to prisidėjo išmaniųjų telefonų naudojimo skatinimo kampanija. \n",
    "Pateikti duomenys neatskleidžia klientų tapatybių bei amžiaus. Tad esant koreliacijai tarp išaugusio ARPU ir kliento amžiaus, mes negalėsime jos pastebėti. Tai padėtų surasti tikslinę auditoriją šiai, ar panašioms kampanijoms ateityje, ko pasekoje galimas marketingo kaštų optimizavimas. "
   ]
  },
  {
   "cell_type": "code",
   "execution_count": 6,
   "metadata": {},
   "outputs": [
    {
     "data": {
      "text/html": [
       "<div>\n",
       "<style scoped>\n",
       "    .dataframe tbody tr th:only-of-type {\n",
       "        vertical-align: middle;\n",
       "    }\n",
       "\n",
       "    .dataframe tbody tr th {\n",
       "        vertical-align: top;\n",
       "    }\n",
       "\n",
       "    .dataframe thead th {\n",
       "        text-align: right;\n",
       "    }\n",
       "</style>\n",
       "<table border=\"1\" class=\"dataframe\">\n",
       "  <thead>\n",
       "    <tr style=\"text-align: right;\">\n",
       "      <th></th>\n",
       "      <th>user_id</th>\n",
       "      <th>arpu_06</th>\n",
       "      <th>arpu_07</th>\n",
       "      <th>smartphone_06</th>\n",
       "      <th>smartphone_07</th>\n",
       "    </tr>\n",
       "  </thead>\n",
       "  <tbody>\n",
       "    <tr>\n",
       "      <th>0</th>\n",
       "      <td>1</td>\n",
       "      <td>0.220782</td>\n",
       "      <td>0.939311</td>\n",
       "      <td>0</td>\n",
       "      <td>1</td>\n",
       "    </tr>\n",
       "    <tr>\n",
       "      <th>1</th>\n",
       "      <td>2</td>\n",
       "      <td>1.986891</td>\n",
       "      <td>3.791338</td>\n",
       "      <td>0</td>\n",
       "      <td>0</td>\n",
       "    </tr>\n",
       "    <tr>\n",
       "      <th>2</th>\n",
       "      <td>3</td>\n",
       "      <td>6.168302</td>\n",
       "      <td>8.661411</td>\n",
       "      <td>1</td>\n",
       "      <td>1</td>\n",
       "    </tr>\n",
       "    <tr>\n",
       "      <th>3</th>\n",
       "      <td>4</td>\n",
       "      <td>0.376215</td>\n",
       "      <td>0.075640</td>\n",
       "      <td>0</td>\n",
       "      <td>0</td>\n",
       "    </tr>\n",
       "    <tr>\n",
       "      <th>4</th>\n",
       "      <td>5</td>\n",
       "      <td>6.728990</td>\n",
       "      <td>13.664181</td>\n",
       "      <td>0</td>\n",
       "      <td>0</td>\n",
       "    </tr>\n",
       "  </tbody>\n",
       "</table>\n",
       "</div>"
      ],
      "text/plain": [
       "   user_id   arpu_06    arpu_07  smartphone_06  smartphone_07\n",
       "0        1  0.220782   0.939311              0              1\n",
       "1        2  1.986891   3.791338              0              0\n",
       "2        3  6.168302   8.661411              1              1\n",
       "3        4  0.376215   0.075640              0              0\n",
       "4        5  6.728990  13.664181              0              0"
      ]
     },
     "execution_count": 6,
     "metadata": {},
     "output_type": "execute_result"
    }
   ],
   "source": [
    "df.head()"
   ]
  },
  {
   "cell_type": "markdown",
   "metadata": {},
   "source": [
    "Šioje klientų bazėje jų yra 1475. Štai čia galime matyti, kaip skiriasi ARPU vidurkiai birželio ir liepos mėnesiais. Kol kas rezultatai džiugina, nes bendras ARPU vidurkis liepą buvo didesnis. Tačiau palyginus skirtingų mėnesių standartinius nuokrypius, galime matyti, kad birželio ARPU vidurkis daug geriau atspindėjo situaciją, nei vidurkis gautas liepą. Reikšmės 'std' eilutėje skiriasi beveik per 3 punktus. Tai rodo, kad liepos ARPU tarp klientų nėra pasisirstęs tolygiai. Ir išties - liepos mėnesio ARPU reikšmės žemesnės už birželio net iki pat 50 procentilės. Liepos mėnesio mediana taip pat yra žemesnė nei biželį. Kol kas galima daryti prielaidą, kad didelė dalis klientų kurie išleisdavo mažiau jau birželį, liepą išleidžia dar mažiau. Ir atvirkščiai, tie kas išleisdavo daugiau jau birželį (nuo 75 procentilės), liepą išleisdavo dar daugau."
   ]
  },
  {
   "cell_type": "code",
   "execution_count": 7,
   "metadata": {},
   "outputs": [
    {
     "data": {
      "text/html": [
       "<div>\n",
       "<style scoped>\n",
       "    .dataframe tbody tr th:only-of-type {\n",
       "        vertical-align: middle;\n",
       "    }\n",
       "\n",
       "    .dataframe tbody tr th {\n",
       "        vertical-align: top;\n",
       "    }\n",
       "\n",
       "    .dataframe thead th {\n",
       "        text-align: right;\n",
       "    }\n",
       "</style>\n",
       "<table border=\"1\" class=\"dataframe\">\n",
       "  <thead>\n",
       "    <tr style=\"text-align: right;\">\n",
       "      <th></th>\n",
       "      <th>user_id</th>\n",
       "      <th>arpu_06</th>\n",
       "      <th>arpu_07</th>\n",
       "      <th>smartphone_06</th>\n",
       "      <th>smartphone_07</th>\n",
       "    </tr>\n",
       "  </thead>\n",
       "  <tbody>\n",
       "    <tr>\n",
       "      <th>count</th>\n",
       "      <td>1475.000000</td>\n",
       "      <td>1475.000000</td>\n",
       "      <td>1475.000000</td>\n",
       "      <td>1475.000000</td>\n",
       "      <td>1475.000000</td>\n",
       "    </tr>\n",
       "    <tr>\n",
       "      <th>mean</th>\n",
       "      <td>738.000000</td>\n",
       "      <td>5.014533</td>\n",
       "      <td>6.296186</td>\n",
       "      <td>0.492203</td>\n",
       "      <td>0.768814</td>\n",
       "    </tr>\n",
       "    <tr>\n",
       "      <th>std</th>\n",
       "      <td>425.940137</td>\n",
       "      <td>2.886219</td>\n",
       "      <td>5.581716</td>\n",
       "      <td>0.500109</td>\n",
       "      <td>0.421734</td>\n",
       "    </tr>\n",
       "    <tr>\n",
       "      <th>min</th>\n",
       "      <td>1.000000</td>\n",
       "      <td>0.001376</td>\n",
       "      <td>0.000406</td>\n",
       "      <td>0.000000</td>\n",
       "      <td>0.000000</td>\n",
       "    </tr>\n",
       "    <tr>\n",
       "      <th>25%</th>\n",
       "      <td>369.500000</td>\n",
       "      <td>2.520438</td>\n",
       "      <td>1.760033</td>\n",
       "      <td>0.000000</td>\n",
       "      <td>1.000000</td>\n",
       "    </tr>\n",
       "    <tr>\n",
       "      <th>50%</th>\n",
       "      <td>738.000000</td>\n",
       "      <td>5.059282</td>\n",
       "      <td>4.656095</td>\n",
       "      <td>0.000000</td>\n",
       "      <td>1.000000</td>\n",
       "    </tr>\n",
       "    <tr>\n",
       "      <th>75%</th>\n",
       "      <td>1106.500000</td>\n",
       "      <td>7.458897</td>\n",
       "      <td>9.698835</td>\n",
       "      <td>1.000000</td>\n",
       "      <td>1.000000</td>\n",
       "    </tr>\n",
       "    <tr>\n",
       "      <th>max</th>\n",
       "      <td>1475.000000</td>\n",
       "      <td>9.996441</td>\n",
       "      <td>24.287749</td>\n",
       "      <td>1.000000</td>\n",
       "      <td>1.000000</td>\n",
       "    </tr>\n",
       "  </tbody>\n",
       "</table>\n",
       "</div>"
      ],
      "text/plain": [
       "           user_id      arpu_06      arpu_07  smartphone_06  smartphone_07\n",
       "count  1475.000000  1475.000000  1475.000000    1475.000000    1475.000000\n",
       "mean    738.000000     5.014533     6.296186       0.492203       0.768814\n",
       "std     425.940137     2.886219     5.581716       0.500109       0.421734\n",
       "min       1.000000     0.001376     0.000406       0.000000       0.000000\n",
       "25%     369.500000     2.520438     1.760033       0.000000       1.000000\n",
       "50%     738.000000     5.059282     4.656095       0.000000       1.000000\n",
       "75%    1106.500000     7.458897     9.698835       1.000000       1.000000\n",
       "max    1475.000000     9.996441    24.287749       1.000000       1.000000"
      ]
     },
     "execution_count": 7,
     "metadata": {},
     "output_type": "execute_result"
    }
   ],
   "source": [
    "df.describe()"
   ]
  },
  {
   "cell_type": "markdown",
   "metadata": {},
   "source": [
    "###  ARPU vidurkis ir mediana"
   ]
  },
  {
   "cell_type": "markdown",
   "metadata": {},
   "source": [
    "Kaip buvo minėta anksčiau, liepos ARPU vidurkis pralenkė vidurkį gautą birželį, tačiau mediana sumažėjo, ir atsirado pusantro punkto dydžio skirtumas. Tai rodo, kad maža dalis įtin aukštų reikšmių iškreipė vidurkį. "
   ]
  },
  {
   "cell_type": "code",
   "execution_count": 8,
   "metadata": {},
   "outputs": [
    {
     "data": {
      "image/png": "[encoded data removed]",
      "text/plain": [
       "<Figure size 216x360 with 1 Axes>"
      ]
     },
     "metadata": {
      "needs_background": "light"
     },
     "output_type": "display_data"
    }
   ],
   "source": [
    "month_labels = ['Birželis', 'Liepa']\n",
    "plt.figure(figsize=(3, 5))\n",
    "arpu_medians = [df['arpu_06'].median(), df['arpu_07'].median()] \n",
    "plt.plot(month_labels, arpu_medians, label='Mediana',linewidth=3, marker='.', markersize=15, color='#ED872D')\n",
    "arpu_means = [df['arpu_06'].mean(), df['arpu_07'].mean() ]\n",
    "\n",
    "plt.plot(month_labels, arpu_means, color = '#8DB600', linewidth=3, marker='.', markersize=15, label ='Vidurkis')\n",
    "plt.title('ARPU vidurkiai ir medianos', fontdict= {'fontsize': 16})\n",
    "plt.legend()\n",
    "plt.show()"
   ]
  },
  {
   "cell_type": "markdown",
   "metadata": {},
   "source": [
    "### ARPU suma"
   ]
  },
  {
   "cell_type": "markdown",
   "metadata": {},
   "source": [
    "Šiame grafike galima matyti, kad jei birželio mėnesį ARPU tarp turinčiųjų ir neturinčiųjų išmaniuosius telefonus buvo pasiskirstęs maždaug tolygiai, liepos mėnesį didžioji dalis ARPU buvo būtent klientų, turinčių išmaniuosius telefonus. "
   ]
  },
  {
   "cell_type": "code",
   "execution_count": 9,
   "metadata": {},
   "outputs": [
    {
     "data": {
      "image/png": "[encoded data removed]",
      "text/plain": [
       "<Figure size 432x288 with 1 Axes>"
      ]
     },
     "metadata": {
      "needs_background": "light"
     },
     "output_type": "display_data"
    }
   ],
   "source": [
    "overall_arpu_06 = df.arpu_06.sum()\n",
    "smart_arpu_06 = df['arpu_06'][df['smartphone_06'] == 1].sum()\n",
    "overall_arpu_07 = df.arpu_07.sum()\n",
    "smart_arpu_07 = df['arpu_07'][df['smartphone_07'] == 1].sum()\n",
    "\n",
    "arpu_sum_bars = plt.bar(month_labels, [overall_arpu_06, overall_arpu_07], label='Bendras ARPU', color= '#54626F')\n",
    "arpu_sum_bars2 = plt.bar(month_labels, [smart_arpu_06, smart_arpu_07], label='Smartphones ARPU', color = '#8DB600')\n",
    "plt.title('Bendras, ir išmaniuosius telefonus turinčiųjų ARPU', fontdict= {'fontsize': 16})\n",
    "arpu_sum_bars2[0].set_hatch('/')\n",
    "arpu_sum_bars2[1].set_hatch('/')\n",
    "plt.legend()\n",
    "plt.show()"
   ]
  },
  {
   "cell_type": "markdown",
   "metadata": {},
   "source": [
    "### Ar išmanieji skatina išleisti daugiau?"
   ]
  },
  {
   "cell_type": "markdown",
   "metadata": {},
   "source": [
    "Iš visos bazės atrinkti pirkėjai - klientai, kurie neturėjo išmaniojo birželį, bet jau turėjo liepą. Skritulinėje diagramoje matome, kad klientai neturėję išmaniojo telefono birželio mėnesį, vidutiniškai išleisdavo po 5.15. Tie patys klientai jau įsigiję išmaniuosius telefonus, liepos mėnesį vidutiniškai išleisdavo po 6.66, kas yra beveik trečdaliu daugiau!\n",
    "\n",
    "Tiesa, pažvelgus į medianas matosi, kad birželio mėnesio mediana yra net šiek tiek didesnė nei liepos. Tai turėtų reikšti, kad maža dalis klientų liepos mėnesį pakėlė vidurkį į aukštumas, kai tuo tarpu bendra situacija nekito taip sparčiai. "
   ]
  },
  {
   "cell_type": "code",
   "execution_count": 26,
   "metadata": {},
   "outputs": [
    {
     "data": {
      "image/png": "[encoded data removed]",
      "text/plain": [
       "<Figure size 432x288 with 1 Axes>"
      ]
     },
     "metadata": {
      "needs_background": "light"
     },
     "output_type": "display_data"
    }
   ],
   "source": [
    "buyers = df.loc[(df.smartphone_06 == 0) & (df.smartphone_07 == 1)]\n",
    "\n",
    "buyers_arpu_06_mean = buyers['arpu_06'].mean()\n",
    "buyers_arpu_07_mean = buyers['arpu_07'].mean()\n",
    "\n",
    "buyers_arpu_06_median = buyers['arpu_06'].median()\n",
    "buyers_arpu_07_median = buyers['arpu_07'].median()\n",
    "\n",
    "\n",
    "arpu_mean_bars = plt.bar(month_labels, [buyers_arpu_06_mean, buyers_arpu_07_mean],\n",
    "       color = '#8DB600')\n",
    "arpu_mean_bars[0].set_hatch('/')\n",
    "arpu_mean_bars[1].set_hatch('/')\n",
    "plt.plot(month_labels, [buyers_arpu_06_median, buyers_arpu_07_median],\n",
    "        linewidth = 0,\n",
    "        marker = '_',\n",
    "        markersize = 138,\n",
    "        color = 'red')\n",
    "plt.title('Nusipirkusiųjų išmaniuosiuis ARPU vidurkiai', fontdict= {'fontsize': 16})\n",
    "\n",
    "plt.show()"
   ]
  },
  {
   "cell_type": "markdown",
   "metadata": {},
   "source": [
    "Pilnam vaizdui susidaryti, siūlyčiau pažvelgti į pirkėjų ARPU sumas. Matosi, kad nepasiant žemesnės medianos, bendra klientų nusipirkusių išmaniuosius išlaidų suma padidėjo. "
   ]
  },
  {
   "cell_type": "code",
   "execution_count": 29,
   "metadata": {},
   "outputs": [
    {
     "data": {
      "image/png": "[encoded data removed]",
      "text/plain": [
       "<Figure size 432x288 with 1 Axes>"
      ]
     },
     "metadata": {
      "needs_background": "light"
     },
     "output_type": "display_data"
    }
   ],
   "source": [
    "buyers_arpu_06_sum = buyers['arpu_06'].sum()\n",
    "buyers_arpu_07_sum = buyers['arpu_07'].sum()\n",
    "arpu_sum_bars = plt.barh(month_labels, [buyers_arpu_06_sum, buyers_arpu_07_sum],\n",
    "        color=['#9FA91F', '#8DB600']\n",
    "        )\n",
    "arpu_sum_bars[0].set_hatch('/')\n",
    "arpu_sum_bars[1].set_hatch('/')\n",
    "plt.title('ARPU Suma', fontdict= {'fontsize': 16})\n",
    "plt.show()"
   ]
  },
  {
   "cell_type": "code",
   "execution_count": 13,
   "metadata": {},
   "outputs": [
    {
     "data": {
      "text/plain": [
       "Text(0.5, 1.0, 'Klientai, kampanijos metu nusipirkę išmaniuosius')"
      ]
     },
     "execution_count": 13,
     "metadata": {},
     "output_type": "execute_result"
    },
    {
     "data": {
      "image/png": "[encoded data removed]",
      "text/plain": [
       "<Figure size 432x288 with 1 Axes>"
      ]
     },
     "metadata": {},
     "output_type": "display_data"
    }
   ],
   "source": [
    "buyer_saver = df.loc[((df.smartphone_06 == 0) & (df.smartphone_07 == 1) & (df.arpu_06 > df.arpu_07) )]\n",
    "len(buyer_saver)\n",
    "\n",
    "plt.pie([len(buyer_saver), (len(buyers) -len(buyer_saver) )],\n",
    "       labels= [ \"Išlaidas sumažino\",'Išlaidas padidino'],\n",
    "       colors = ['#ED872D', '#8DB600']\n",
    "       )\n",
    "plt.title('Klientai, kampanijos metu nusipirkę išmaniuosius', fontdict= {'fontsize': 16})"
   ]
  },
  {
   "cell_type": "markdown",
   "metadata": {},
   "source": [
    "### Kontrolinė grupė"
   ]
  },
  {
   "cell_type": "markdown",
   "metadata": {},
   "source": [
    "Norint įsitikinti, kad pirkėjų ARPU augimas priklausė būtent dėl kampanijos, reikėtų palyginti jų ARPU augimą su klientų, kurie nedalyvavo kampanijoje. Taigi mantome, kad liepos mėnesį ARPU prieaugį turėjo net ir tie, kurie kampanijoje nedalyvavo, tieisog jų prieaugis buvo beveik 0.5 mažesnis."
   ]
  },
  {
   "cell_type": "code",
   "execution_count": 47,
   "metadata": {},
   "outputs": [
    {
     "data": {
      "image/png": "[encoded data removed]",
      "text/plain": [
       "<Figure size 432x288 with 1 Axes>"
      ]
     },
     "metadata": {
      "needs_background": "light"
     },
     "output_type": "display_data"
    }
   ],
   "source": [
    "control = df.loc[(df.smartphone_06 == 0) & (df.smartphone_07 == 0)]\n",
    "control_mean_06 = control['arpu_06'].mean()\n",
    "control_mean_07 = control['arpu_07'].mean()\n",
    "\n",
    "control_diff_means = control_mean_07 - control_mean_06\n",
    "buyer_diff_means = buyers_arpu_07_mean - buyers_arpu_06_mean\n",
    "plt.bar(['Klientai pirkę išmanujį', 'Klientai nepirkę išmaniojo'], [buyer_diff_means, control_diff_means],\n",
    "       color = ['#8DB600', '#54626F'])\n",
    "\n",
    "plt.title('ARPU prieaugis', fontdict= {'fontsize': 16})\n",
    "plt.show()"
   ]
  },
  {
   "cell_type": "markdown",
   "metadata": {},
   "source": [
    "### Iš duomenų apie pirkėjus galėčiau pateikti tokias įžvalgas:\n",
    "    * Skirtingi klientai, pasinaudoję tuo pačiu pasiūlymu elgiasi skirtingai. Vieni gerokai padidino savo išlaidas, kai kurie net sumažino. \n",
    "    * Tačiau bendras rezultatas teigiamas - liepos mėnesio ARPU tikrai didesnis. "
   ]
  },
  {
   "cell_type": "markdown",
   "metadata": {},
   "source": [
    "### Papildomidomos liepos mėnesio pajamos"
   ]
  },
  {
   "cell_type": "markdown",
   "metadata": {},
   "source": [
    "Liepos mėnesio ARPU viršijo Birželio net 1890 vienetais. "
   ]
  },
  {
   "cell_type": "code",
   "execution_count": 14,
   "metadata": {},
   "outputs": [
    {
     "data": {
      "text/plain": [
       "1890.44"
      ]
     },
     "execution_count": 14,
     "metadata": {},
     "output_type": "execute_result"
    }
   ],
   "source": [
    "round((df.arpu_07 - df.arpu_06).sum(), 2)"
   ]
  }
 ],
 "metadata": {
  "kernelspec": {
   "display_name": "Python 3",
   "language": "python",
   "name": "python3"
  },
  "language_info": {
   "codemirror_mode": {
    "name": "ipython",
    "version": 3
   },
   "file_extension": ".py",
   "mimetype": "text/x-python",
   "name": "python",
   "nbconvert_exporter": "python",
   "pygments_lexer": "ipython3",
   "version": "3.7.6"
  }
 },
 "nbformat": 4,
 "nbformat_minor": 4
}
