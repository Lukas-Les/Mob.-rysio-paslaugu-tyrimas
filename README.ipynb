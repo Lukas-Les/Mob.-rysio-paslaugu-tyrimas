
Small data analysis about mobile services clients and even smaller campaign comments and descriptions written in lithuanian

Just run Tyrimas.ipynb
